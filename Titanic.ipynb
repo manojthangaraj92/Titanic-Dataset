{
 "cells": [
  {
   "cell_type": "markdown",
   "metadata": {},
   "source": [
    "# B8IT109 Advanced Data Analytics - CA Two\n",
    "\n",
    "## Kaggle’s Titanic Machine Learning Competition\n",
    "\n",
    "### Student Name : Manoj Kumar Thangaraj\n",
    "### Student Number : 10570753\n",
    "### Kaggle Account Username : manojkumarthangaraj \n",
    "### Kaggle UserID : User ID 7164562\n",
    "### Email ID: manojthangaraj92@gmail.com\n",
    "\n"
   ]
  },
  {
   "cell_type": "code",
   "execution_count": null,
   "metadata": {},
   "outputs": [],
   "source": [
    "# Import the requried libraries\n",
    "\n",
    "import pandas as pd   #pandas for reading the csv file and all dataframe operations\n",
    "import numpy as np    #mainly used for Deep learining when its converting into array\n",
    "import matplotlib.pyplot as plt   #matplotlib and sns are mainly used for visualization\n",
    "import seaborn as sns\n",
    "%matplotlib inline\n",
    "\n",
    "#Import the required libraries for Hot encoding\n",
    "\n",
    "from sklearn.preprocessing import LabelEncoder, OneHotEncoder   #for integer encoding and onehot encoding\n",
    "from sklearn.compose import ColumnTransformer                   #to transfer columns in case needed\n",
    "from sklearn.preprocessing import StandardScaler                #scaling columns when especially in deep learning\n",
    "\n",
    "#Import the traditional machine learning libraries\n",
    "from sklearn import svm                                    #support vector machine algorithm from sklearn library\n",
    "from sklearn.ensemble import RandomForestClassifier        #Random Forest algorithm from sklearn library\n",
    "\n",
    "# Importing the Keras libraries and packages\n",
    "import tensorflow as tf                                    #tensorflow, keras, sequential and dense for deep learning\n",
    "from tensorflow import keras\n",
    "from keras.models import Sequential\n",
    "from keras.layers import Dense"
   ]
  },
  {
   "cell_type": "code",
   "execution_count": 43,
   "metadata": {},
   "outputs": [],
   "source": [
    "#read the csv files\n",
    "\n",
    "df_test = pd.read_csv(\"test.csv\", index_col = \"PassengerId\")         #test file\n",
    "df_train = pd.read_csv(\"train.csv\", index_col = \"PassengerId\")       #training file"
   ]
  },
  {
   "cell_type": "code",
   "execution_count": 44,
   "metadata": {},
   "outputs": [
    {
     "data": {
      "text/html": [
       "<div>\n",
       "<style scoped>\n",
       "    .dataframe tbody tr th:only-of-type {\n",
       "        vertical-align: middle;\n",
       "    }\n",
       "\n",
       "    .dataframe tbody tr th {\n",
       "        vertical-align: top;\n",
       "    }\n",
       "\n",
       "    .dataframe thead th {\n",
       "        text-align: right;\n",
       "    }\n",
       "</style>\n",
       "<table border=\"1\" class=\"dataframe\">\n",
       "  <thead>\n",
       "    <tr style=\"text-align: right;\">\n",
       "      <th></th>\n",
       "      <th>Survived</th>\n",
       "      <th>Pclass</th>\n",
       "      <th>Name</th>\n",
       "      <th>Sex</th>\n",
       "      <th>Age</th>\n",
       "      <th>SibSp</th>\n",
       "      <th>Parch</th>\n",
       "      <th>Ticket</th>\n",
       "      <th>Fare</th>\n",
       "      <th>Cabin</th>\n",
       "      <th>Embarked</th>\n",
       "    </tr>\n",
       "    <tr>\n",
       "      <th>PassengerId</th>\n",
       "      <th></th>\n",
       "      <th></th>\n",
       "      <th></th>\n",
       "      <th></th>\n",
       "      <th></th>\n",
       "      <th></th>\n",
       "      <th></th>\n",
       "      <th></th>\n",
       "      <th></th>\n",
       "      <th></th>\n",
       "      <th></th>\n",
       "    </tr>\n",
       "  </thead>\n",
       "  <tbody>\n",
       "    <tr>\n",
       "      <th>1</th>\n",
       "      <td>0</td>\n",
       "      <td>3</td>\n",
       "      <td>Braund, Mr. Owen Harris</td>\n",
       "      <td>male</td>\n",
       "      <td>22.0</td>\n",
       "      <td>1</td>\n",
       "      <td>0</td>\n",
       "      <td>A/5 21171</td>\n",
       "      <td>7.2500</td>\n",
       "      <td>NaN</td>\n",
       "      <td>S</td>\n",
       "    </tr>\n",
       "    <tr>\n",
       "      <th>2</th>\n",
       "      <td>1</td>\n",
       "      <td>1</td>\n",
       "      <td>Cumings, Mrs. John Bradley (Florence Briggs Th...</td>\n",
       "      <td>female</td>\n",
       "      <td>38.0</td>\n",
       "      <td>1</td>\n",
       "      <td>0</td>\n",
       "      <td>PC 17599</td>\n",
       "      <td>71.2833</td>\n",
       "      <td>C85</td>\n",
       "      <td>C</td>\n",
       "    </tr>\n",
       "    <tr>\n",
       "      <th>3</th>\n",
       "      <td>1</td>\n",
       "      <td>3</td>\n",
       "      <td>Heikkinen, Miss. Laina</td>\n",
       "      <td>female</td>\n",
       "      <td>26.0</td>\n",
       "      <td>0</td>\n",
       "      <td>0</td>\n",
       "      <td>STON/O2. 3101282</td>\n",
       "      <td>7.9250</td>\n",
       "      <td>NaN</td>\n",
       "      <td>S</td>\n",
       "    </tr>\n",
       "    <tr>\n",
       "      <th>4</th>\n",
       "      <td>1</td>\n",
       "      <td>1</td>\n",
       "      <td>Futrelle, Mrs. Jacques Heath (Lily May Peel)</td>\n",
       "      <td>female</td>\n",
       "      <td>35.0</td>\n",
       "      <td>1</td>\n",
       "      <td>0</td>\n",
       "      <td>113803</td>\n",
       "      <td>53.1000</td>\n",
       "      <td>C123</td>\n",
       "      <td>S</td>\n",
       "    </tr>\n",
       "    <tr>\n",
       "      <th>5</th>\n",
       "      <td>0</td>\n",
       "      <td>3</td>\n",
       "      <td>Allen, Mr. William Henry</td>\n",
       "      <td>male</td>\n",
       "      <td>35.0</td>\n",
       "      <td>0</td>\n",
       "      <td>0</td>\n",
       "      <td>373450</td>\n",
       "      <td>8.0500</td>\n",
       "      <td>NaN</td>\n",
       "      <td>S</td>\n",
       "    </tr>\n",
       "  </tbody>\n",
       "</table>\n",
       "</div>"
      ],
      "text/plain": [
       "             Survived  Pclass  \\\n",
       "PassengerId                     \n",
       "1                   0       3   \n",
       "2                   1       1   \n",
       "3                   1       3   \n",
       "4                   1       1   \n",
       "5                   0       3   \n",
       "\n",
       "                                                          Name     Sex   Age  \\\n",
       "PassengerId                                                                    \n",
       "1                                      Braund, Mr. Owen Harris    male  22.0   \n",
       "2            Cumings, Mrs. John Bradley (Florence Briggs Th...  female  38.0   \n",
       "3                                       Heikkinen, Miss. Laina  female  26.0   \n",
       "4                 Futrelle, Mrs. Jacques Heath (Lily May Peel)  female  35.0   \n",
       "5                                     Allen, Mr. William Henry    male  35.0   \n",
       "\n",
       "             SibSp  Parch            Ticket     Fare Cabin Embarked  \n",
       "PassengerId                                                          \n",
       "1                1      0         A/5 21171   7.2500   NaN        S  \n",
       "2                1      0          PC 17599  71.2833   C85        C  \n",
       "3                0      0  STON/O2. 3101282   7.9250   NaN        S  \n",
       "4                1      0            113803  53.1000  C123        S  \n",
       "5                0      0            373450   8.0500   NaN        S  "
      ]
     },
     "execution_count": 44,
     "metadata": {},
     "output_type": "execute_result"
    }
   ],
   "source": [
    "# Check the data frame for train dataset\n",
    "\n",
    "df_train.head()                   #using .head() from pandas"
   ]
  },
  {
   "cell_type": "code",
   "execution_count": 45,
   "metadata": {},
   "outputs": [
    {
     "data": {
      "text/html": [
       "<div>\n",
       "<style scoped>\n",
       "    .dataframe tbody tr th:only-of-type {\n",
       "        vertical-align: middle;\n",
       "    }\n",
       "\n",
       "    .dataframe tbody tr th {\n",
       "        vertical-align: top;\n",
       "    }\n",
       "\n",
       "    .dataframe thead th {\n",
       "        text-align: right;\n",
       "    }\n",
       "</style>\n",
       "<table border=\"1\" class=\"dataframe\">\n",
       "  <thead>\n",
       "    <tr style=\"text-align: right;\">\n",
       "      <th></th>\n",
       "      <th>Pclass</th>\n",
       "      <th>Name</th>\n",
       "      <th>Sex</th>\n",
       "      <th>Age</th>\n",
       "      <th>SibSp</th>\n",
       "      <th>Parch</th>\n",
       "      <th>Ticket</th>\n",
       "      <th>Fare</th>\n",
       "      <th>Cabin</th>\n",
       "      <th>Embarked</th>\n",
       "    </tr>\n",
       "    <tr>\n",
       "      <th>PassengerId</th>\n",
       "      <th></th>\n",
       "      <th></th>\n",
       "      <th></th>\n",
       "      <th></th>\n",
       "      <th></th>\n",
       "      <th></th>\n",
       "      <th></th>\n",
       "      <th></th>\n",
       "      <th></th>\n",
       "      <th></th>\n",
       "    </tr>\n",
       "  </thead>\n",
       "  <tbody>\n",
       "    <tr>\n",
       "      <th>892</th>\n",
       "      <td>3</td>\n",
       "      <td>Kelly, Mr. James</td>\n",
       "      <td>male</td>\n",
       "      <td>34.5</td>\n",
       "      <td>0</td>\n",
       "      <td>0</td>\n",
       "      <td>330911</td>\n",
       "      <td>7.8292</td>\n",
       "      <td>NaN</td>\n",
       "      <td>Q</td>\n",
       "    </tr>\n",
       "    <tr>\n",
       "      <th>893</th>\n",
       "      <td>3</td>\n",
       "      <td>Wilkes, Mrs. James (Ellen Needs)</td>\n",
       "      <td>female</td>\n",
       "      <td>47.0</td>\n",
       "      <td>1</td>\n",
       "      <td>0</td>\n",
       "      <td>363272</td>\n",
       "      <td>7.0000</td>\n",
       "      <td>NaN</td>\n",
       "      <td>S</td>\n",
       "    </tr>\n",
       "    <tr>\n",
       "      <th>894</th>\n",
       "      <td>2</td>\n",
       "      <td>Myles, Mr. Thomas Francis</td>\n",
       "      <td>male</td>\n",
       "      <td>62.0</td>\n",
       "      <td>0</td>\n",
       "      <td>0</td>\n",
       "      <td>240276</td>\n",
       "      <td>9.6875</td>\n",
       "      <td>NaN</td>\n",
       "      <td>Q</td>\n",
       "    </tr>\n",
       "    <tr>\n",
       "      <th>895</th>\n",
       "      <td>3</td>\n",
       "      <td>Wirz, Mr. Albert</td>\n",
       "      <td>male</td>\n",
       "      <td>27.0</td>\n",
       "      <td>0</td>\n",
       "      <td>0</td>\n",
       "      <td>315154</td>\n",
       "      <td>8.6625</td>\n",
       "      <td>NaN</td>\n",
       "      <td>S</td>\n",
       "    </tr>\n",
       "    <tr>\n",
       "      <th>896</th>\n",
       "      <td>3</td>\n",
       "      <td>Hirvonen, Mrs. Alexander (Helga E Lindqvist)</td>\n",
       "      <td>female</td>\n",
       "      <td>22.0</td>\n",
       "      <td>1</td>\n",
       "      <td>1</td>\n",
       "      <td>3101298</td>\n",
       "      <td>12.2875</td>\n",
       "      <td>NaN</td>\n",
       "      <td>S</td>\n",
       "    </tr>\n",
       "  </tbody>\n",
       "</table>\n",
       "</div>"
      ],
      "text/plain": [
       "             Pclass                                          Name     Sex  \\\n",
       "PassengerId                                                                 \n",
       "892               3                              Kelly, Mr. James    male   \n",
       "893               3              Wilkes, Mrs. James (Ellen Needs)  female   \n",
       "894               2                     Myles, Mr. Thomas Francis    male   \n",
       "895               3                              Wirz, Mr. Albert    male   \n",
       "896               3  Hirvonen, Mrs. Alexander (Helga E Lindqvist)  female   \n",
       "\n",
       "              Age  SibSp  Parch   Ticket     Fare Cabin Embarked  \n",
       "PassengerId                                                       \n",
       "892          34.5      0      0   330911   7.8292   NaN        Q  \n",
       "893          47.0      1      0   363272   7.0000   NaN        S  \n",
       "894          62.0      0      0   240276   9.6875   NaN        Q  \n",
       "895          27.0      0      0   315154   8.6625   NaN        S  \n",
       "896          22.0      1      1  3101298  12.2875   NaN        S  "
      ]
     },
     "execution_count": 45,
     "metadata": {},
     "output_type": "execute_result"
    }
   ],
   "source": [
    "# Check the data frame  for test dataset\n",
    "\n",
    "df_test.head()                  #using .head() from pandas"
   ]
  },
  {
   "cell_type": "code",
   "execution_count": 46,
   "metadata": {},
   "outputs": [
    {
     "data": {
      "text/plain": [
       "Survived      int64\n",
       "Pclass        int64\n",
       "Name         object\n",
       "Sex          object\n",
       "Age         float64\n",
       "SibSp         int64\n",
       "Parch         int64\n",
       "Ticket       object\n",
       "Fare        float64\n",
       "Cabin        object\n",
       "Embarked     object\n",
       "dtype: object"
      ]
     },
     "execution_count": 46,
     "metadata": {},
     "output_type": "execute_result"
    }
   ],
   "source": [
    "# Check the data type of the each columns in train dataset\n",
    "\n",
    "df_train.dtypes         # using .dtypes function"
   ]
  },
  {
   "cell_type": "code",
   "execution_count": 47,
   "metadata": {},
   "outputs": [
    {
     "data": {
      "text/plain": [
       "Pclass        int64\n",
       "Name         object\n",
       "Sex          object\n",
       "Age         float64\n",
       "SibSp         int64\n",
       "Parch         int64\n",
       "Ticket       object\n",
       "Fare        float64\n",
       "Cabin        object\n",
       "Embarked     object\n",
       "dtype: object"
      ]
     },
     "execution_count": 47,
     "metadata": {},
     "output_type": "execute_result"
    }
   ],
   "source": [
    "# Check the data type of the each columns in test dataset\n",
    "\n",
    "df_test.dtypes          # using .dtypes function"
   ]
  },
  {
   "cell_type": "code",
   "execution_count": 48,
   "metadata": {},
   "outputs": [],
   "source": [
    "# Data profiling is the first step in the assesing the quality of the data\n",
    "\n",
    "# Variable Passenger ID, Name, Ticket is not much important for the analysis as it does not contribute much in survival predictions\n",
    "\n",
    "# the data types of all columns are relevant except the df[\"Pclass\"]. Therefore, converting them as factors or objects\n",
    "\n",
    "df_test[\"Pclass\"] = df_test[\"Pclass\"].astype(object)\n",
    "df_train[\"Pclass\"] = df_train[\"Pclass\"].astype(object)"
   ]
  },
  {
   "cell_type": "code",
   "execution_count": 49,
   "metadata": {},
   "outputs": [
    {
     "data": {
      "text/html": [
       "<div>\n",
       "<style scoped>\n",
       "    .dataframe tbody tr th:only-of-type {\n",
       "        vertical-align: middle;\n",
       "    }\n",
       "\n",
       "    .dataframe tbody tr th {\n",
       "        vertical-align: top;\n",
       "    }\n",
       "\n",
       "    .dataframe thead th {\n",
       "        text-align: right;\n",
       "    }\n",
       "</style>\n",
       "<table border=\"1\" class=\"dataframe\">\n",
       "  <thead>\n",
       "    <tr style=\"text-align: right;\">\n",
       "      <th></th>\n",
       "      <th>Age</th>\n",
       "      <th>Fare</th>\n",
       "      <th>SibSp</th>\n",
       "      <th>Parch</th>\n",
       "    </tr>\n",
       "  </thead>\n",
       "  <tbody>\n",
       "    <tr>\n",
       "      <th>count</th>\n",
       "      <td>714.000000</td>\n",
       "      <td>891.000000</td>\n",
       "      <td>891.000000</td>\n",
       "      <td>891.000000</td>\n",
       "    </tr>\n",
       "    <tr>\n",
       "      <th>mean</th>\n",
       "      <td>29.699118</td>\n",
       "      <td>32.204208</td>\n",
       "      <td>0.523008</td>\n",
       "      <td>0.381594</td>\n",
       "    </tr>\n",
       "    <tr>\n",
       "      <th>std</th>\n",
       "      <td>14.526497</td>\n",
       "      <td>49.693429</td>\n",
       "      <td>1.102743</td>\n",
       "      <td>0.806057</td>\n",
       "    </tr>\n",
       "    <tr>\n",
       "      <th>min</th>\n",
       "      <td>0.420000</td>\n",
       "      <td>0.000000</td>\n",
       "      <td>0.000000</td>\n",
       "      <td>0.000000</td>\n",
       "    </tr>\n",
       "    <tr>\n",
       "      <th>25%</th>\n",
       "      <td>20.125000</td>\n",
       "      <td>7.910400</td>\n",
       "      <td>0.000000</td>\n",
       "      <td>0.000000</td>\n",
       "    </tr>\n",
       "    <tr>\n",
       "      <th>50%</th>\n",
       "      <td>28.000000</td>\n",
       "      <td>14.454200</td>\n",
       "      <td>0.000000</td>\n",
       "      <td>0.000000</td>\n",
       "    </tr>\n",
       "    <tr>\n",
       "      <th>75%</th>\n",
       "      <td>38.000000</td>\n",
       "      <td>31.000000</td>\n",
       "      <td>1.000000</td>\n",
       "      <td>0.000000</td>\n",
       "    </tr>\n",
       "    <tr>\n",
       "      <th>max</th>\n",
       "      <td>80.000000</td>\n",
       "      <td>512.329200</td>\n",
       "      <td>8.000000</td>\n",
       "      <td>6.000000</td>\n",
       "    </tr>\n",
       "  </tbody>\n",
       "</table>\n",
       "</div>"
      ],
      "text/plain": [
       "              Age        Fare       SibSp       Parch\n",
       "count  714.000000  891.000000  891.000000  891.000000\n",
       "mean    29.699118   32.204208    0.523008    0.381594\n",
       "std     14.526497   49.693429    1.102743    0.806057\n",
       "min      0.420000    0.000000    0.000000    0.000000\n",
       "25%     20.125000    7.910400    0.000000    0.000000\n",
       "50%     28.000000   14.454200    0.000000    0.000000\n",
       "75%     38.000000   31.000000    1.000000    0.000000\n",
       "max     80.000000  512.329200    8.000000    6.000000"
      ]
     },
     "execution_count": 49,
     "metadata": {},
     "output_type": "execute_result"
    }
   ],
   "source": [
    "# let's describe the other columns in the dataset\n",
    "\n",
    "df_train[[\"Age\", \"Fare\",\"SibSp\",\"Parch\"]].describe()        #using .describe() function"
   ]
  },
  {
   "cell_type": "code",
   "execution_count": 50,
   "metadata": {},
   "outputs": [
    {
     "data": {
      "text/plain": [
       "Survived      0\n",
       "Pclass        0\n",
       "Name          0\n",
       "Sex           0\n",
       "Age         177\n",
       "SibSp         0\n",
       "Parch         0\n",
       "Ticket        0\n",
       "Fare          0\n",
       "Cabin       687\n",
       "Embarked      2\n",
       "dtype: int64"
      ]
     },
     "execution_count": 50,
     "metadata": {},
     "output_type": "execute_result"
    }
   ],
   "source": [
    "# In age, the count seems low, there might be a missing values. we will check for missing values on each column.\n",
    "\n",
    "df_train.isnull().sum()"
   ]
  },
  {
   "cell_type": "code",
   "execution_count": 51,
   "metadata": {},
   "outputs": [],
   "source": [
    "# We must impute the values in the columns age and Embarked to avoid missing values in the data.\n",
    "\n",
    "# for the ages, we can choose to impute the mean value for each passenger class and for embarked the mode value\n",
    "\n",
    "df_train[\"Age\"] = df_train[\"Age\"].fillna(df_train.groupby(\"Pclass\")[\"Age\"].transform(\"mean\"))    #.transform(mean) will transform mean and impute them\n",
    "df_train[\"Embarked\"] = df_train[\"Embarked\"].fillna('mode')     #.fillna() with mode values"
   ]
  },
  {
   "cell_type": "code",
   "execution_count": 52,
   "metadata": {},
   "outputs": [],
   "source": [
    "# We must impute the values in the columns age and Embarked to avoid missing values in the data.\n",
    "\n",
    "# for the ages, we can choose to impute the mean value for each passenger class and for embarked the mode value\n",
    "\n",
    "df_test[\"Age\"] = df_test[\"Age\"].fillna(df_test.groupby(\"Pclass\")[\"Age\"].transform(\"mean\"))   #.transform(mean) will transform mean and impute them\n",
    "df_test[\"Embarked\"] = df_test[\"Embarked\"].fillna('mode')               #.fillna() with mode values"
   ]
  },
  {
   "cell_type": "code",
   "execution_count": 53,
   "metadata": {},
   "outputs": [],
   "source": [
    "#drop the unwanted columns and dropping cabin column because it has too many missing values in the train dataset\n",
    "\n",
    "df_train = df_train.drop(['Name'], axis = 1)\n",
    "df_train = df_train.drop(['Cabin'], axis = 1)\n",
    "df_train = df_train.drop(['Ticket'], axis = 1)"
   ]
  },
  {
   "cell_type": "code",
   "execution_count": 54,
   "metadata": {},
   "outputs": [],
   "source": [
    "# Dropping the columns which are not important in the test dataset\n",
    "\n",
    "df_test = df_test.drop(['Name'], axis = 1)\n",
    "df_test = df_test.drop(['Cabin'], axis = 1)\n",
    "df_test = df_test.drop(['Ticket'], axis = 1)"
   ]
  },
  {
   "cell_type": "code",
   "execution_count": 55,
   "metadata": {},
   "outputs": [
    {
     "data": {
      "text/plain": [
       "<matplotlib.axes._subplots.AxesSubplot at 0x1dd6bb4cc10>"
      ]
     },
     "execution_count": 55,
     "metadata": {},
     "output_type": "execute_result"
    },
    {
     "data": {
      "image/png": "[encoded data removed]",
      "text/plain": [
       "<Figure size 432x288 with 1 Axes>"
      ]
     },
     "metadata": {
      "needs_background": "light"
     },
     "output_type": "display_data"
    }
   ],
   "source": [
    "# Not let's look at some visualization of the datasets.\n",
    "\n",
    "#boxplot of the dataframe to check for outliers\n",
    "\n",
    "df_train.boxplot(column=['Age', 'SibSp', 'Parch', 'Fare'])"
   ]
  },
  {
   "cell_type": "markdown",
   "metadata": {},
   "source": [
    "Since these columns are not continous values, we dont have to filter out the outliers"
   ]
  },
  {
   "cell_type": "code",
   "execution_count": 23,
   "metadata": {},
   "outputs": [
    {
     "data": {
      "text/plain": [
       "<matplotlib.axes._subplots.AxesSubplot at 0x1dd6b4ad5b0>"
      ]
     },
     "execution_count": 23,
     "metadata": {},
     "output_type": "execute_result"
    },
    {
     "data": {
      "image/png": "[encoded data removed]",
      "text/plain": [
       "<Figure size 432x288 with 1 Axes>"
      ]
     },
     "metadata": {
      "needs_background": "light"
     },
     "output_type": "display_data"
    }
   ],
   "source": [
    "# Lets see the distribution of age through SNS distplot\n",
    "\n",
    "sns.distplot(df_train['Age'])"
   ]
  },
  {
   "cell_type": "markdown",
   "metadata": {},
   "source": [
    "The age is fairly normally distributed"
   ]
  },
  {
   "cell_type": "code",
   "execution_count": 24,
   "metadata": {},
   "outputs": [
    {
     "data": {
      "text/plain": [
       "<matplotlib.axes._subplots.AxesSubplot at 0x1dd6b686250>"
      ]
     },
     "execution_count": 24,
     "metadata": {},
     "output_type": "execute_result"
    },
    {
     "data": {
      "image/png": "[encoded data removed]",
      "text/plain": [
       "<Figure size 432x288 with 1 Axes>"
      ]
     },
     "metadata": {
      "needs_background": "light"
     },
     "output_type": "display_data"
    }
   ],
   "source": [
    "# Lets see the distribution of fare through SNS distplot\n",
    "\n",
    "sns.distplot(df_train['Fare'])"
   ]
  },
  {
   "cell_type": "markdown",
   "metadata": {},
   "source": [
    "The Fare rate is not normally distributed"
   ]
  },
  {
   "cell_type": "code",
   "execution_count": 25,
   "metadata": {},
   "outputs": [
    {
     "data": {
      "text/plain": [
       "<matplotlib.axes._subplots.AxesSubplot at 0x1dd6b6d54c0>"
      ]
     },
     "execution_count": 25,
     "metadata": {},
     "output_type": "execute_result"
    },
    {
     "data": {
      "image/png": "[encoded data removed]",
      "text/plain": [
       "<Figure size 432x288 with 1 Axes>"
      ]
     },
     "metadata": {
      "needs_background": "light"
     },
     "output_type": "display_data"
    }
   ],
   "source": [
    "# Lets see the distribution of SibSp through SNS distplot\n",
    "\n",
    "sns.distplot(df_train['SibSp'])"
   ]
  },
  {
   "cell_type": "markdown",
   "metadata": {},
   "source": [
    "SibSp column is not normally distributed"
   ]
  },
  {
   "cell_type": "code",
   "execution_count": 27,
   "metadata": {},
   "outputs": [
    {
     "name": "stderr",
     "output_type": "stream",
     "text": [
      "C:\\Users\\manoj\\anaconda3\\lib\\site-packages\\seaborn\\distributions.py:369: UserWarning: Default bandwidth for data is 0; skipping density estimation.\n",
      "  warnings.warn(msg, UserWarning)\n"
     ]
    },
    {
     "data": {
      "text/plain": [
       "<matplotlib.axes._subplots.AxesSubplot at 0x1dd6b82cc70>"
      ]
     },
     "execution_count": 27,
     "metadata": {},
     "output_type": "execute_result"
    },
    {
     "data": {
      "image/png": "[encoded data removed]",
      "text/plain": [
       "<Figure size 432x288 with 1 Axes>"
      ]
     },
     "metadata": {
      "needs_background": "light"
     },
     "output_type": "display_data"
    }
   ],
   "source": [
    "# Lets see the distribution of Parch through SNS distplot\n",
    "\n",
    "sns.distplot(df_train['Parch'])"
   ]
  },
  {
   "cell_type": "markdown",
   "metadata": {},
   "source": [
    "Again, the Parch column is not nomally distributed"
   ]
  },
  {
   "cell_type": "code",
   "execution_count": 28,
   "metadata": {},
   "outputs": [
    {
     "data": {
      "text/plain": [
       "<matplotlib.axes._subplots.AxesSubplot at 0x1dd6b82c5b0>"
      ]
     },
     "execution_count": 28,
     "metadata": {},
     "output_type": "execute_result"
    },
    {
     "data": {
      "image/png": "[encoded data removed]",
      "text/plain": [
       "<Figure size 432x288 with 1 Axes>"
      ]
     },
     "metadata": {
      "needs_background": "light"
     },
     "output_type": "display_data"
    }
   ],
   "source": [
    "# Lets looks at the survival data by sex, Pclass, SibSp, Parch\n",
    "# Lets use the sns.countplot to deal with the categorical variables\n",
    "\n",
    "sns.countplot(x=\"Survived\", hue='Sex', data=df_train)"
   ]
  },
  {
   "cell_type": "markdown",
   "metadata": {},
   "source": [
    "Males did not survive in most number and females survived higher than males"
   ]
  },
  {
   "cell_type": "code",
   "execution_count": 29,
   "metadata": {},
   "outputs": [
    {
     "data": {
      "text/plain": [
       "<matplotlib.axes._subplots.AxesSubplot at 0x1dd6b92d8e0>"
      ]
     },
     "execution_count": 29,
     "metadata": {},
     "output_type": "execute_result"
    },
    {
     "data": {
      "image/png": "[encoded data removed]",
      "text/plain": [
       "<Figure size 432x288 with 1 Axes>"
      ]
     },
     "metadata": {
      "needs_background": "light"
     },
     "output_type": "display_data"
    }
   ],
   "source": [
    "# Countplot survived by Pclass\n",
    "\n",
    "sns.countplot(x=\"Survived\", hue='Pclass', data=df_train)"
   ]
  },
  {
   "cell_type": "markdown",
   "metadata": {},
   "source": [
    "This tells us the passenger in the third class has died in higher number."
   ]
  },
  {
   "cell_type": "code",
   "execution_count": 30,
   "metadata": {},
   "outputs": [
    {
     "data": {
      "text/plain": [
       "<matplotlib.axes._subplots.AxesSubplot at 0x1dd6b9ae7f0>"
      ]
     },
     "execution_count": 30,
     "metadata": {},
     "output_type": "execute_result"
    },
    {
     "data": {
      "image/png": "[encoded data removed]",
      "text/plain": [
       "<Figure size 432x288 with 1 Axes>"
      ]
     },
     "metadata": {
      "needs_background": "light"
     },
     "output_type": "display_data"
    }
   ],
   "source": [
    "# Countplot survived by SibSp\n",
    "\n",
    "sns.countplot(x=\"Survived\", hue='SibSp', data=df_train)"
   ]
  },
  {
   "cell_type": "markdown",
   "metadata": {},
   "source": [
    "People who had no siblings in the ship died and survived the most. There are many reasons for this to happen"
   ]
  },
  {
   "cell_type": "code",
   "execution_count": 31,
   "metadata": {},
   "outputs": [
    {
     "data": {
      "text/plain": [
       "<matplotlib.axes._subplots.AxesSubplot at 0x1dd6ba17460>"
      ]
     },
     "execution_count": 31,
     "metadata": {},
     "output_type": "execute_result"
    },
    {
     "data": {
      "image/png": "[encoded data removed]",
      "text/plain": [
       "<Figure size 432x288 with 1 Axes>"
      ]
     },
     "metadata": {
      "needs_background": "light"
     },
     "output_type": "display_data"
    }
   ],
   "source": [
    "# Countplot survived by Parch\n",
    "\n",
    "sns.countplot(x=\"Survived\", hue='Parch', data=df_train)"
   ]
  },
  {
   "cell_type": "markdown",
   "metadata": {},
   "source": [
    "This plot tells us the same as above."
   ]
  },
  {
   "cell_type": "code",
   "execution_count": 32,
   "metadata": {},
   "outputs": [
    {
     "data": {
      "text/plain": [
       "<matplotlib.axes._subplots.AxesSubplot at 0x1dd6ba17a00>"
      ]
     },
     "execution_count": 32,
     "metadata": {},
     "output_type": "execute_result"
    },
    {
     "data": {
      "image/png": "[encoded data removed]",
      "text/plain": [
       "<Figure size 432x288 with 1 Axes>"
      ]
     },
     "metadata": {
      "needs_background": "light"
     },
     "output_type": "display_data"
    }
   ],
   "source": [
    "# Countplot survived by Embarked\n",
    "\n",
    "sns.countplot(x=\"Survived\", hue='Embarked', data=df_train)"
   ]
  },
  {
   "cell_type": "markdown",
   "metadata": {},
   "source": [
    "Again, People came from S have died and survuved the most. Its clear that there are more passengers from S than the other two stations.\n",
    "\n",
    "The male category, the people who travelled in third class, people who are accompanied by zero sibilings, people who are accompanied by zero have died the most.\n",
    "\n",
    "From the above visuals, Parch and SibSp columns seems like they can be treated as the categories."
   ]
  },
  {
   "cell_type": "code",
   "execution_count": 56,
   "metadata": {},
   "outputs": [],
   "source": [
    "# Convert the above mentioned columns as a factors in both train and test datasets.\n",
    "\n",
    "df_train[\"Parch\"] = df_train[\"Parch\"].astype(object)\n",
    "df_train[\"SibSp\"] = df_train[\"SibSp\"].astype(object)\n",
    "df_test[\"Parch\"] = df_test[\"Parch\"].astype(object)\n",
    "df_test[\"SibSp\"] = df_test[\"SibSp\"].astype(object)"
   ]
  },
  {
   "cell_type": "code",
   "execution_count": 57,
   "metadata": {},
   "outputs": [
    {
     "data": {
      "text/plain": [
       "Pclass      0\n",
       "Sex         0\n",
       "Age         0\n",
       "SibSp       0\n",
       "Parch       0\n",
       "Fare        1\n",
       "Embarked    0\n",
       "dtype: int64"
      ]
     },
     "execution_count": 57,
     "metadata": {},
     "output_type": "execute_result"
    }
   ],
   "source": [
    "df_test.isnull().sum() #Check for null values"
   ]
  },
  {
   "cell_type": "code",
   "execution_count": 58,
   "metadata": {},
   "outputs": [],
   "source": [
    "# since we have one fare missing value in the test set, we will impute the median value on that\n",
    "\n",
    "df_test[\"Fare\"] = df_test[\"Fare\"].fillna(df_test.groupby(\"Pclass\")[\"Fare\"].transform(\"median\"))"
   ]
  },
  {
   "cell_type": "code",
   "execution_count": 59,
   "metadata": {},
   "outputs": [],
   "source": [
    "#Let's convert the categorical data into numerical but as a factor since ML algroithm won't take it as a input\n",
    "\n",
    "Label_Encoder_X = LabelEncoder()\n",
    "df_train[\"Sex\"] = Label_Encoder_X.fit_transform(df_train[\"Sex\"])\n",
    "df_test[\"Sex\"] = Label_Encoder_X.fit_transform(df_test[\"Sex\"])\n",
    "df_train[\"Embarked\"] = Label_Encoder_X.fit_transform(df_train[\"Embarked\"])\n",
    "df_test[\"Embarked\"] = Label_Encoder_X.fit_transform(df_test[\"Embarked\"])"
   ]
  },
  {
   "cell_type": "code",
   "execution_count": 60,
   "metadata": {},
   "outputs": [
    {
     "data": {
      "text/html": [
       "<div>\n",
       "<style scoped>\n",
       "    .dataframe tbody tr th:only-of-type {\n",
       "        vertical-align: middle;\n",
       "    }\n",
       "\n",
       "    .dataframe tbody tr th {\n",
       "        vertical-align: top;\n",
       "    }\n",
       "\n",
       "    .dataframe thead th {\n",
       "        text-align: right;\n",
       "    }\n",
       "</style>\n",
       "<table border=\"1\" class=\"dataframe\">\n",
       "  <thead>\n",
       "    <tr style=\"text-align: right;\">\n",
       "      <th></th>\n",
       "      <th>Survived</th>\n",
       "      <th>Pclass</th>\n",
       "      <th>Sex</th>\n",
       "      <th>Age</th>\n",
       "      <th>SibSp</th>\n",
       "      <th>Parch</th>\n",
       "      <th>Fare</th>\n",
       "      <th>Embarked</th>\n",
       "    </tr>\n",
       "    <tr>\n",
       "      <th>PassengerId</th>\n",
       "      <th></th>\n",
       "      <th></th>\n",
       "      <th></th>\n",
       "      <th></th>\n",
       "      <th></th>\n",
       "      <th></th>\n",
       "      <th></th>\n",
       "      <th></th>\n",
       "    </tr>\n",
       "  </thead>\n",
       "  <tbody>\n",
       "    <tr>\n",
       "      <th>1</th>\n",
       "      <td>0</td>\n",
       "      <td>3</td>\n",
       "      <td>1</td>\n",
       "      <td>22.0</td>\n",
       "      <td>1</td>\n",
       "      <td>0</td>\n",
       "      <td>7.2500</td>\n",
       "      <td>2</td>\n",
       "    </tr>\n",
       "    <tr>\n",
       "      <th>2</th>\n",
       "      <td>1</td>\n",
       "      <td>1</td>\n",
       "      <td>0</td>\n",
       "      <td>38.0</td>\n",
       "      <td>1</td>\n",
       "      <td>0</td>\n",
       "      <td>71.2833</td>\n",
       "      <td>0</td>\n",
       "    </tr>\n",
       "    <tr>\n",
       "      <th>3</th>\n",
       "      <td>1</td>\n",
       "      <td>3</td>\n",
       "      <td>0</td>\n",
       "      <td>26.0</td>\n",
       "      <td>0</td>\n",
       "      <td>0</td>\n",
       "      <td>7.9250</td>\n",
       "      <td>2</td>\n",
       "    </tr>\n",
       "    <tr>\n",
       "      <th>4</th>\n",
       "      <td>1</td>\n",
       "      <td>1</td>\n",
       "      <td>0</td>\n",
       "      <td>35.0</td>\n",
       "      <td>1</td>\n",
       "      <td>0</td>\n",
       "      <td>53.1000</td>\n",
       "      <td>2</td>\n",
       "    </tr>\n",
       "    <tr>\n",
       "      <th>5</th>\n",
       "      <td>0</td>\n",
       "      <td>3</td>\n",
       "      <td>1</td>\n",
       "      <td>35.0</td>\n",
       "      <td>0</td>\n",
       "      <td>0</td>\n",
       "      <td>8.0500</td>\n",
       "      <td>2</td>\n",
       "    </tr>\n",
       "  </tbody>\n",
       "</table>\n",
       "</div>"
      ],
      "text/plain": [
       "             Survived Pclass  Sex   Age SibSp Parch     Fare  Embarked\n",
       "PassengerId                                                           \n",
       "1                   0      3    1  22.0     1     0   7.2500         2\n",
       "2                   1      1    0  38.0     1     0  71.2833         0\n",
       "3                   1      3    0  26.0     0     0   7.9250         2\n",
       "4                   1      1    0  35.0     1     0  53.1000         2\n",
       "5                   0      3    1  35.0     0     0   8.0500         2"
      ]
     },
     "execution_count": 60,
     "metadata": {},
     "output_type": "execute_result"
    }
   ],
   "source": [
    "#Let's check the values now on train dataset\n",
    "\n",
    "df_train.head()"
   ]
  },
  {
   "cell_type": "code",
   "execution_count": 61,
   "metadata": {},
   "outputs": [
    {
     "data": {
      "text/html": [
       "<div>\n",
       "<style scoped>\n",
       "    .dataframe tbody tr th:only-of-type {\n",
       "        vertical-align: middle;\n",
       "    }\n",
       "\n",
       "    .dataframe tbody tr th {\n",
       "        vertical-align: top;\n",
       "    }\n",
       "\n",
       "    .dataframe thead th {\n",
       "        text-align: right;\n",
       "    }\n",
       "</style>\n",
       "<table border=\"1\" class=\"dataframe\">\n",
       "  <thead>\n",
       "    <tr style=\"text-align: right;\">\n",
       "      <th></th>\n",
       "      <th>Pclass</th>\n",
       "      <th>Sex</th>\n",
       "      <th>Age</th>\n",
       "      <th>SibSp</th>\n",
       "      <th>Parch</th>\n",
       "      <th>Fare</th>\n",
       "      <th>Embarked</th>\n",
       "    </tr>\n",
       "    <tr>\n",
       "      <th>PassengerId</th>\n",
       "      <th></th>\n",
       "      <th></th>\n",
       "      <th></th>\n",
       "      <th></th>\n",
       "      <th></th>\n",
       "      <th></th>\n",
       "      <th></th>\n",
       "    </tr>\n",
       "  </thead>\n",
       "  <tbody>\n",
       "    <tr>\n",
       "      <th>892</th>\n",
       "      <td>3</td>\n",
       "      <td>1</td>\n",
       "      <td>34.5</td>\n",
       "      <td>0</td>\n",
       "      <td>0</td>\n",
       "      <td>7.8292</td>\n",
       "      <td>1</td>\n",
       "    </tr>\n",
       "    <tr>\n",
       "      <th>893</th>\n",
       "      <td>3</td>\n",
       "      <td>0</td>\n",
       "      <td>47.0</td>\n",
       "      <td>1</td>\n",
       "      <td>0</td>\n",
       "      <td>7.0000</td>\n",
       "      <td>2</td>\n",
       "    </tr>\n",
       "    <tr>\n",
       "      <th>894</th>\n",
       "      <td>2</td>\n",
       "      <td>1</td>\n",
       "      <td>62.0</td>\n",
       "      <td>0</td>\n",
       "      <td>0</td>\n",
       "      <td>9.6875</td>\n",
       "      <td>1</td>\n",
       "    </tr>\n",
       "    <tr>\n",
       "      <th>895</th>\n",
       "      <td>3</td>\n",
       "      <td>1</td>\n",
       "      <td>27.0</td>\n",
       "      <td>0</td>\n",
       "      <td>0</td>\n",
       "      <td>8.6625</td>\n",
       "      <td>2</td>\n",
       "    </tr>\n",
       "    <tr>\n",
       "      <th>896</th>\n",
       "      <td>3</td>\n",
       "      <td>0</td>\n",
       "      <td>22.0</td>\n",
       "      <td>1</td>\n",
       "      <td>1</td>\n",
       "      <td>12.2875</td>\n",
       "      <td>2</td>\n",
       "    </tr>\n",
       "  </tbody>\n",
       "</table>\n",
       "</div>"
      ],
      "text/plain": [
       "            Pclass  Sex   Age SibSp Parch     Fare  Embarked\n",
       "PassengerId                                                 \n",
       "892              3    1  34.5     0     0   7.8292         1\n",
       "893              3    0  47.0     1     0   7.0000         2\n",
       "894              2    1  62.0     0     0   9.6875         1\n",
       "895              3    1  27.0     0     0   8.6625         2\n",
       "896              3    0  22.0     1     1  12.2875         2"
      ]
     },
     "execution_count": 61,
     "metadata": {},
     "output_type": "execute_result"
    }
   ],
   "source": [
    "#Let's check the values now on test dataset\n",
    "\n",
    "df_test.head()"
   ]
  },
  {
   "cell_type": "code",
   "execution_count": 62,
   "metadata": {},
   "outputs": [],
   "source": [
    "#We will make a copy of the data frames for RandomClassifier, SVM and ANN\n",
    "\n",
    "df_trainRandom = df_train.copy()\n",
    "df_trainSVM = df_train.copy()\n",
    "df_trainANN = df_train.copy()\n",
    "\n",
    "df_testRandom = df_test.copy()\n",
    "df_testSVM = df_test.copy()\n",
    "df_testANN = df_test.copy()"
   ]
  },
  {
   "cell_type": "code",
   "execution_count": 63,
   "metadata": {},
   "outputs": [],
   "source": [
    "#This procedure is for Random Classifier\n",
    "\n",
    "# Selecting the features and labels\n",
    "\n",
    "X=df_trainRandom[['Pclass','Sex','Age','SibSp','Parch','Fare','Embarked']]  # Features\n",
    "y=df_trainRandom['Survived']  # Labels"
   ]
  },
  {
   "cell_type": "code",
   "execution_count": 64,
   "metadata": {},
   "outputs": [],
   "source": [
    "#Create a Gaussian Classifier\n",
    "\n",
    "clf=RandomForestClassifier(n_estimators=100)    \n",
    "\n",
    "#Train the model using the training sets using .fit()\n",
    "\n",
    "clf.fit(X,y)\n",
    "\n",
    "#Make predictions using .predict()\n",
    "\n",
    "y_pred=clf.predict(df_testRandom)   \n",
    "df_testRandom[\"survived\"] = y_pred    #assigning it to a new column to write to csv later \n",
    "\n",
    "#Saving the file to be submitted\n",
    "df_testRandom[\"survived\"].to_csv('submissions_randomforest.csv', index = True)   #writing to csv"
   ]
  },
  {
   "cell_type": "markdown",
   "metadata": {},
   "source": [
    "The random forest classifier yielded the accuracy rate of about 74.641 percent but previous attempt in Kaggle yielded a good result of about 77 percent."
   ]
  },
  {
   "cell_type": "code",
   "execution_count": 65,
   "metadata": {},
   "outputs": [],
   "source": [
    "#This procedure is for SVM Classifier\n",
    "\n",
    "# Selecting the features and labels\n",
    "\n",
    "XSVM=df_trainSVM[['Pclass','Sex','Age','SibSp','Parch','Fare','Embarked']]  # Features\n",
    "ySVM=df_trainSVM['Survived']  # Labels"
   ]
  },
  {
   "cell_type": "code",
   "execution_count": 66,
   "metadata": {},
   "outputs": [],
   "source": [
    "#Create a svm Classifier\n",
    "clf = svm.SVC(kernel='linear') # Linear Kernel\n",
    "\n",
    "#Train the model using the training sets using .fit()\n",
    "clf.fit(XSVM, ySVM)\n",
    "\n",
    "#Predict the response for test dataset using .predict()\n",
    "y_predSVM = clf.predict(df_testSVM)\n",
    "\n",
    "#saving the predictions to the files\n",
    "\n",
    "df_testSVM[\"Survived\"] = y_predSVM           #assigning it to a new column to write to csv later \n",
    "df_testSVM[\"Survived\"].to_csv('submission_svm.csv', index = True)       #writing to csv"
   ]
  },
  {
   "cell_type": "markdown",
   "metadata": {},
   "source": [
    "The accuracy rate on SVM with linear is 76.555 percent when we tried with kernel rbf version the accuracy rate went down."
   ]
  },
  {
   "cell_type": "code",
   "execution_count": 204,
   "metadata": {},
   "outputs": [],
   "source": [
    "#We will make a copy of the data frames for ANN\n",
    "\n",
    "df_trainANN7 = df_train.copy()       #using .copy() function\n",
    "df_testANN7 = df_test.copy()"
   ]
  },
  {
   "cell_type": "code",
   "execution_count": 205,
   "metadata": {},
   "outputs": [],
   "source": [
    "#This procedure is for Artificial Neural Networks\n",
    "\n",
    "# Selecting the features and labels\n",
    "\n",
    "XANN7=df_trainANN7[['Pclass','Sex','Age','SibSp','Parch','Fare','Embarked']]  # Features\n",
    "yANN7=df_trainANN7['Survived']  # Labels"
   ]
  },
  {
   "cell_type": "code",
   "execution_count": 206,
   "metadata": {},
   "outputs": [
    {
     "name": "stderr",
     "output_type": "stream",
     "text": [
      "<ipython-input-206-9a88c59d763f>:4: SettingWithCopyWarning: \n",
      "A value is trying to be set on a copy of a slice from a DataFrame.\n",
      "Try using .loc[row_indexer,col_indexer] = value instead\n",
      "\n",
      "See the caveats in the documentation: https://pandas.pydata.org/pandas-docs/stable/user_guide/indexing.html#returning-a-view-versus-a-copy\n",
      "  XANN7[\"Embarked\"] = ohe.fit_transform(XANN7[[\"Embarked\"]])\n"
     ]
    }
   ],
   "source": [
    "#Lets do it with the one hot encoder (the required libraries are imported above)\n",
    "\n",
    "ohe = OneHotEncoder(sparse=False)\n",
    "XANN7[\"Embarked\"] = ohe.fit_transform(XANN7[[\"Embarked\"]])                #transforming the train set\n",
    "df_testANN7[\"Embarked\"] = ohe.fit_transform(df_testANN7[[\"Embarked\"]])    #transforming the test set\n",
    "\n"
   ]
  },
  {
   "cell_type": "code",
   "execution_count": 212,
   "metadata": {},
   "outputs": [],
   "source": [
    "# Feature Scaling\n",
    "\n",
    "sc = StandardScaler()                   #scaler function from sklearn\n",
    "XANN7 = sc.fit_transform(XANN7)         #transforming the train set\n",
    "df_testANN7 = sc.transform(df_testANN7)  #transforming the test set"
   ]
  },
  {
   "cell_type": "code",
   "execution_count": 213,
   "metadata": {},
   "outputs": [
    {
     "name": "stdout",
     "output_type": "stream",
     "text": [
      "Epoch 1/100\n",
      "90/90 [==============================] - 1s 1ms/step - loss: 0.7292 - accuracy: 0.5259\n",
      "Epoch 2/100\n",
      "90/90 [==============================] - 0s 1ms/step - loss: 0.5775 - accuracy: 0.7437\n",
      "Epoch 3/100\n",
      "90/90 [==============================] - 0s 2ms/step - loss: 0.5352 - accuracy: 0.7364\n",
      "Epoch 4/100\n",
      "90/90 [==============================] - 0s 1ms/step - loss: 0.4757 - accuracy: 0.7811\n",
      "Epoch 5/100\n",
      "90/90 [==============================] - 0s 1ms/step - loss: 0.4487 - accuracy: 0.7857\n",
      "Epoch 6/100\n",
      "90/90 [==============================] - 0s 2ms/step - loss: 0.4159 - accuracy: 0.8125\n",
      "Epoch 7/100\n",
      "90/90 [==============================] - 0s 2ms/step - loss: 0.4480 - accuracy: 0.7950\n",
      "Epoch 8/100\n",
      "90/90 [==============================] - 0s 1ms/step - loss: 0.4151 - accuracy: 0.8118\n",
      "Epoch 9/100\n",
      "90/90 [==============================] - 0s 1ms/step - loss: 0.3913 - accuracy: 0.8375\n",
      "Epoch 10/100\n",
      "90/90 [==============================] - 0s 2ms/step - loss: 0.4179 - accuracy: 0.8228\n",
      "Epoch 11/100\n",
      "90/90 [==============================] - 0s 1ms/step - loss: 0.4186 - accuracy: 0.8158\n",
      "Epoch 12/100\n",
      "90/90 [==============================] - 0s 2ms/step - loss: 0.4039 - accuracy: 0.8225\n",
      "Epoch 13/100\n",
      "90/90 [==============================] - 0s 1ms/step - loss: 0.4169 - accuracy: 0.8148\n",
      "Epoch 14/100\n",
      "90/90 [==============================] - 0s 2ms/step - loss: 0.3945 - accuracy: 0.8374\n",
      "Epoch 15/100\n",
      "90/90 [==============================] - 0s 1ms/step - loss: 0.3988 - accuracy: 0.8270\n",
      "Epoch 16/100\n",
      "90/90 [==============================] - 0s 1ms/step - loss: 0.4090 - accuracy: 0.8293\n",
      "Epoch 17/100\n",
      "90/90 [==============================] - 0s 2ms/step - loss: 0.4258 - accuracy: 0.8255\n",
      "Epoch 18/100\n",
      "90/90 [==============================] - 0s 2ms/step - loss: 0.4375 - accuracy: 0.8027\n",
      "Epoch 19/100\n",
      "90/90 [==============================] - 0s 2ms/step - loss: 0.4218 - accuracy: 0.8158\n",
      "Epoch 20/100\n",
      "90/90 [==============================] - 0s 1ms/step - loss: 0.4182 - accuracy: 0.8275\n",
      "Epoch 21/100\n",
      "90/90 [==============================] - 0s 2ms/step - loss: 0.4011 - accuracy: 0.8336: 0s - loss: 0.4017 - accuracy: 0.83\n",
      "Epoch 22/100\n",
      "90/90 [==============================] - 0s 2ms/step - loss: 0.4104 - accuracy: 0.8330\n",
      "Epoch 23/100\n",
      "90/90 [==============================] - 0s 2ms/step - loss: 0.4181 - accuracy: 0.8286\n",
      "Epoch 24/100\n",
      "90/90 [==============================] - 0s 2ms/step - loss: 0.4004 - accuracy: 0.8271\n",
      "Epoch 25/100\n",
      "90/90 [==============================] - 0s 2ms/step - loss: 0.4150 - accuracy: 0.8090\n",
      "Epoch 26/100\n",
      "90/90 [==============================] - 0s 2ms/step - loss: 0.3806 - accuracy: 0.8423\n",
      "Epoch 27/100\n",
      "90/90 [==============================] - 0s 2ms/step - loss: 0.4338 - accuracy: 0.8044\n",
      "Epoch 28/100\n",
      "90/90 [==============================] - 0s 2ms/step - loss: 0.3807 - accuracy: 0.8448\n",
      "Epoch 29/100\n",
      "90/90 [==============================] - 0s 2ms/step - loss: 0.3869 - accuracy: 0.8396\n",
      "Epoch 30/100\n",
      "90/90 [==============================] - 0s 2ms/step - loss: 0.4010 - accuracy: 0.8240\n",
      "Epoch 31/100\n",
      "90/90 [==============================] - 0s 1ms/step - loss: 0.3824 - accuracy: 0.8488\n",
      "Epoch 32/100\n",
      "90/90 [==============================] - 0s 2ms/step - loss: 0.3993 - accuracy: 0.8287\n",
      "Epoch 33/100\n",
      "90/90 [==============================] - 0s 2ms/step - loss: 0.3708 - accuracy: 0.8424\n",
      "Epoch 34/100\n",
      "90/90 [==============================] - 0s 2ms/step - loss: 0.4256 - accuracy: 0.8015\n",
      "Epoch 35/100\n",
      "90/90 [==============================] - 0s 2ms/step - loss: 0.3775 - accuracy: 0.8267\n",
      "Epoch 36/100\n",
      "90/90 [==============================] - 0s 2ms/step - loss: 0.3777 - accuracy: 0.8371\n",
      "Epoch 37/100\n",
      "90/90 [==============================] - 0s 2ms/step - loss: 0.3864 - accuracy: 0.8302\n",
      "Epoch 38/100\n",
      "90/90 [==============================] - 0s 1ms/step - loss: 0.3756 - accuracy: 0.8498\n",
      "Epoch 39/100\n",
      "90/90 [==============================] - 0s 1ms/step - loss: 0.3803 - accuracy: 0.8451\n",
      "Epoch 40/100\n",
      "90/90 [==============================] - 0s 2ms/step - loss: 0.3782 - accuracy: 0.8357\n",
      "Epoch 41/100\n",
      "90/90 [==============================] - 0s 2ms/step - loss: 0.3734 - accuracy: 0.8428\n",
      "Epoch 42/100\n",
      "90/90 [==============================] - 0s 2ms/step - loss: 0.3918 - accuracy: 0.8326\n",
      "Epoch 43/100\n",
      "90/90 [==============================] - 0s 1ms/step - loss: 0.3826 - accuracy: 0.8392\n",
      "Epoch 44/100\n",
      "90/90 [==============================] - 0s 1ms/step - loss: 0.3866 - accuracy: 0.8385\n",
      "Epoch 45/100\n",
      "90/90 [==============================] - 0s 1ms/step - loss: 0.3522 - accuracy: 0.8690\n",
      "Epoch 46/100\n",
      "90/90 [==============================] - 0s 2ms/step - loss: 0.3694 - accuracy: 0.8474\n",
      "Epoch 47/100\n",
      "90/90 [==============================] - 0s 2ms/step - loss: 0.3888 - accuracy: 0.8281\n",
      "Epoch 48/100\n",
      "90/90 [==============================] - 0s 2ms/step - loss: 0.4121 - accuracy: 0.8214\n",
      "Epoch 49/100\n",
      "90/90 [==============================] - 0s 2ms/step - loss: 0.3824 - accuracy: 0.8386\n",
      "Epoch 50/100\n",
      "90/90 [==============================] - 0s 2ms/step - loss: 0.3615 - accuracy: 0.8569\n",
      "Epoch 51/100\n",
      "90/90 [==============================] - 0s 2ms/step - loss: 0.3779 - accuracy: 0.8462\n",
      "Epoch 52/100\n",
      "90/90 [==============================] - 0s 2ms/step - loss: 0.4054 - accuracy: 0.8219\n",
      "Epoch 53/100\n",
      "90/90 [==============================] - 0s 2ms/step - loss: 0.3558 - accuracy: 0.8556\n",
      "Epoch 54/100\n",
      "90/90 [==============================] - 0s 2ms/step - loss: 0.3774 - accuracy: 0.8397\n",
      "Epoch 55/100\n",
      "90/90 [==============================] - 0s 2ms/step - loss: 0.3780 - accuracy: 0.8507\n",
      "Epoch 56/100\n",
      "90/90 [==============================] - 0s 2ms/step - loss: 0.4049 - accuracy: 0.8274\n",
      "Epoch 57/100\n",
      "90/90 [==============================] - 0s 2ms/step - loss: 0.3424 - accuracy: 0.8588\n",
      "Epoch 58/100\n",
      "90/90 [==============================] - 0s 2ms/step - loss: 0.3762 - accuracy: 0.8324\n",
      "Epoch 59/100\n",
      "90/90 [==============================] - 0s 2ms/step - loss: 0.3464 - accuracy: 0.8484\n",
      "Epoch 60/100\n",
      "90/90 [==============================] - 0s 2ms/step - loss: 0.3799 - accuracy: 0.8337\n",
      "Epoch 61/100\n",
      "90/90 [==============================] - 0s 2ms/step - loss: 0.4330 - accuracy: 0.8200\n",
      "Epoch 62/100\n",
      "90/90 [==============================] - 0s 2ms/step - loss: 0.3556 - accuracy: 0.8502\n",
      "Epoch 63/100\n",
      "90/90 [==============================] - 0s 2ms/step - loss: 0.3560 - accuracy: 0.8538\n",
      "Epoch 64/100\n",
      "90/90 [==============================] - 0s 1ms/step - loss: 0.3795 - accuracy: 0.8323\n",
      "Epoch 65/100\n",
      "90/90 [==============================] - 0s 2ms/step - loss: 0.3767 - accuracy: 0.8446\n",
      "Epoch 66/100\n",
      "90/90 [==============================] - 0s 2ms/step - loss: 0.3701 - accuracy: 0.8570\n",
      "Epoch 67/100\n",
      "90/90 [==============================] - 0s 2ms/step - loss: 0.3558 - accuracy: 0.8431\n",
      "Epoch 68/100\n",
      "90/90 [==============================] - 0s 2ms/step - loss: 0.4229 - accuracy: 0.8155\n",
      "Epoch 69/100\n",
      "90/90 [==============================] - 0s 1ms/step - loss: 0.3663 - accuracy: 0.8460\n",
      "Epoch 70/100\n",
      "90/90 [==============================] - 0s 2ms/step - loss: 0.3524 - accuracy: 0.8491\n",
      "Epoch 71/100\n",
      "90/90 [==============================] - 0s 2ms/step - loss: 0.3527 - accuracy: 0.8502\n",
      "Epoch 72/100\n",
      "90/90 [==============================] - 0s 2ms/step - loss: 0.3600 - accuracy: 0.8439\n",
      "Epoch 73/100\n",
      "90/90 [==============================] - 0s 1ms/step - loss: 0.3971 - accuracy: 0.8294\n",
      "Epoch 74/100\n",
      "90/90 [==============================] - 0s 2ms/step - loss: 0.3538 - accuracy: 0.8465\n",
      "Epoch 75/100\n",
      "90/90 [==============================] - 0s 2ms/step - loss: 0.3705 - accuracy: 0.8462\n",
      "Epoch 76/100\n",
      "90/90 [==============================] - 0s 2ms/step - loss: 0.3720 - accuracy: 0.8457\n",
      "Epoch 77/100\n",
      "90/90 [==============================] - 0s 2ms/step - loss: 0.3673 - accuracy: 0.8352: 0s - loss: 0.3646 - accuracy: 0.83\n",
      "Epoch 78/100\n",
      "90/90 [==============================] - 0s 2ms/step - loss: 0.3662 - accuracy: 0.8419\n",
      "Epoch 79/100\n",
      "90/90 [==============================] - 0s 2ms/step - loss: 0.3427 - accuracy: 0.8539\n",
      "Epoch 80/100\n",
      "90/90 [==============================] - 0s 2ms/step - loss: 0.3672 - accuracy: 0.8394\n",
      "Epoch 81/100\n",
      "90/90 [==============================] - 0s 2ms/step - loss: 0.3934 - accuracy: 0.8259\n",
      "Epoch 82/100\n",
      "90/90 [==============================] - 0s 1ms/step - loss: 0.3699 - accuracy: 0.8497\n",
      "Epoch 83/100\n",
      "90/90 [==============================] - 0s 1ms/step - loss: 0.3675 - accuracy: 0.8369\n",
      "Epoch 84/100\n",
      "90/90 [==============================] - 0s 1ms/step - loss: 0.4015 - accuracy: 0.8173\n",
      "Epoch 85/100\n",
      "90/90 [==============================] - 0s 1ms/step - loss: 0.3815 - accuracy: 0.8364\n",
      "Epoch 86/100\n",
      "90/90 [==============================] - 0s 2ms/step - loss: 0.3781 - accuracy: 0.8293\n",
      "Epoch 87/100\n",
      "90/90 [==============================] - 0s 2ms/step - loss: 0.3728 - accuracy: 0.8356\n",
      "Epoch 88/100\n",
      "90/90 [==============================] - 0s 2ms/step - loss: 0.3649 - accuracy: 0.8390\n",
      "Epoch 89/100\n",
      "90/90 [==============================] - 0s 2ms/step - loss: 0.3797 - accuracy: 0.8429\n",
      "Epoch 90/100\n",
      "90/90 [==============================] - 0s 2ms/step - loss: 0.3993 - accuracy: 0.8351\n",
      "Epoch 91/100\n",
      "90/90 [==============================] - 0s 1ms/step - loss: 0.3763 - accuracy: 0.8367\n",
      "Epoch 92/100\n",
      "90/90 [==============================] - 0s 2ms/step - loss: 0.3802 - accuracy: 0.8282\n",
      "Epoch 93/100\n",
      "90/90 [==============================] - 0s 2ms/step - loss: 0.3675 - accuracy: 0.8493\n",
      "Epoch 94/100\n",
      "90/90 [==============================] - 0s 1ms/step - loss: 0.3640 - accuracy: 0.8486\n",
      "Epoch 95/100\n",
      "90/90 [==============================] - 0s 1ms/step - loss: 0.3775 - accuracy: 0.8425\n",
      "Epoch 96/100\n",
      "90/90 [==============================] - 0s 2ms/step - loss: 0.3670 - accuracy: 0.8341\n",
      "Epoch 97/100\n",
      "90/90 [==============================] - 0s 2ms/step - loss: 0.3358 - accuracy: 0.8700\n",
      "Epoch 98/100\n",
      "90/90 [==============================] - 0s 1ms/step - loss: 0.3821 - accuracy: 0.8402\n",
      "Epoch 99/100\n",
      "90/90 [==============================] - 0s 1ms/step - loss: 0.3901 - accuracy: 0.8337\n",
      "Epoch 100/100\n",
      "90/90 [==============================] - 0s 1ms/step - loss: 0.3825 - accuracy: 0.8452\n"
     ]
    },
    {
     "data": {
      "text/plain": [
       "<tensorflow.python.keras.callbacks.History at 0x1dd7903d5e0>"
      ]
     },
     "execution_count": 213,
     "metadata": {},
     "output_type": "execute_result"
    }
   ],
   "source": [
    "# Initialising the ANN\n",
    "\n",
    "classifier = Sequential()\n",
    "\n",
    "classifier.add(Dense(14, input_dim=7, activation='relu'))   # we will double the first hidden layer and bring equal to the number of input layer next time and finally to 1\n",
    "classifier.add(Dense(7, activation='relu'))                 #rectified linear unit as an activation function here\n",
    "classifier.add(Dense(1, activation='sigmoid'))              #we will use sigmoid as an activation function here insted of sgd since sigmoid yeilds good result.\n",
    "\n",
    "# Compiling the ANN with adam optimizer and since it binary classification, we are using binary_crossentropy in loss.\n",
    "classifier.compile(optimizer = 'adam', loss = 'binary_crossentropy', metrics = ['accuracy'])\n",
    "\n",
    "# Fitting the ANN to the Training set and batch size as 10 since the test set has only few rows and epoch as 100 to adjust errors and get a better result.\n",
    "classifier.fit(XANN7, yANN7, batch_size = 10, epochs = 100)\n"
   ]
  },
  {
   "cell_type": "code",
   "execution_count": 214,
   "metadata": {},
   "outputs": [],
   "source": [
    "# Part 3 - Making the predictions and evaluating the model\n",
    "\n",
    "# Predicting the Test set results\n",
    "y_predANN = classifier.predict(df_testANN7)\n",
    "y_final = (y_predANN > 0.5).astype(int).ravel()   #converting the prediction number to either 0 or 1\n",
    "y_final = list(y_final)           #converting the ndarray into list to append to the dataset later on.\n",
    "\n",
    "#saving the predictions to the files\n",
    "\n",
    "df_test2 = pd.read_csv(\"test.csv\", index_col = \"PassengerId\") #reading the file once again to take up the passenger id column.\n",
    "df_test2[\"Survived\"] = y_final        #assign it to a new column\n",
    "df_test2[\"Survived\"].to_csv('submission_ann.csv', index = True)  #write them into a csv file."
   ]
  },
  {
   "cell_type": "markdown",
   "metadata": {},
   "source": [
    "I made a three different attempts in with Deep Learning. Two times with OneHotEncoder and one time without OneHotEncoder. The attempt without using OneHotEncoder yeilded me a best result with accuracy of 77.03 percent."
   ]
  }
 ],
 "metadata": {
  "kernelspec": {
   "display_name": "Python 3",
   "language": "python",
   "name": "python3"
  },
  "language_info": {
   "codemirror_mode": {
    "name": "ipython",
    "version": 3
   },
   "file_extension": ".py",
   "mimetype": "text/x-python",
   "name": "python",
   "nbconvert_exporter": "python",
   "pygments_lexer": "ipython3",
   "version": "3.8.8"
  }
 },
 "nbformat": 4,
 "nbformat_minor": 4
}
